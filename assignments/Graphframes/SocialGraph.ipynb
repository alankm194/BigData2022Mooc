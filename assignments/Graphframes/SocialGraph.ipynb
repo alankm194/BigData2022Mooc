{
 "cells": [
  {
   "cell_type": "markdown",
   "metadata": {
    "deletable": false,
    "editable": false,
    "nbgrader": {
     "cell_type": "markdown",
     "checksum": "dd940108c418529a12962053d1dc767b",
     "grade": false,
     "grade_id": "cell-97231f8480b9c894",
     "locked": true,
     "schema_version": 3,
     "solution": false,
     "task": false
    }
   },
   "source": [
    "For this problem set, we'll be using the Jupyter notebook:\n",
    "\n",
    "![](jupyter.png)"
   ]
  },
  {
   "cell_type": "markdown",
   "metadata": {
    "deletable": false,
    "editable": false,
    "nbgrader": {
     "cell_type": "markdown",
     "checksum": "7ec0f3b4a5251fe7589bfabf6a55c776",
     "grade": false,
     "grade_id": "cell-2e0a627e22b76fe5",
     "locked": true,
     "schema_version": 3,
     "solution": false,
     "task": false
    }
   },
   "source": [
    "## GraphFrame Exercises\n",
    "Your job is to implement multiple small methods that analyze people's social data using [GraphFrames](https://graphframes.github.io/graphframes/docs/_site/index.html).\n",
    "\n",
    "We use a small sample data of \"socialgraph.dat\" from https://archive.org/download/201309_foursquare_dataset_umn/fsq.zip, inside the \"umn_foursquare_datasets\" folder.\n",
    "\n",
    "The \"socialgraph.dat\" file contains the social graph edges (connections) that exist between users. Each social connection consits of two users represented by two unique ids (first_user_id and second_user_id). The connnections are directed. Supposed we have data shown as:\n",
    "\n",
    "first_user_id | second_user_id \n",
    "---------------|----------------\n",
    "             1 |             2\n",
    "             2 |             1\n",
    "\n",
    "This data set shows that there is a connection from user1 (whose id is 1) to user2 (whose id is 2), and another connection from user2 to user1.\n",
    "             \n",
    "These links may be helpful:  \n",
    "https://graphframes.github.io/graphframes/docs/_site/user-guide.html  \n",
    "https://graphframes.github.io/graphframes/docs/_site/api/python/graphframes.html#module-graphframes  \n"
   ]
  },
  {
   "cell_type": "code",
   "execution_count": 1,
   "metadata": {
    "deletable": false,
    "editable": false,
    "nbgrader": {
     "cell_type": "code",
     "checksum": "d7f5ab11dcd71560406142a14dd47a15",
     "grade": false,
     "grade_id": "cell-44104a3ba82b4229",
     "locked": true,
     "schema_version": 3,
     "solution": false,
     "task": false
    }
   },
   "outputs": [],
   "source": [
    "from graphframes import GraphFrame\n",
    "from pyspark.sql import SparkSession, Row\n",
    "import re\n",
    "from pyspark.sql.functions import *\n",
    "\n",
    "spark = SparkSession.builder\\\n",
    "    .master('local[*]')\\\n",
    "    .appName('main')\\\n",
    "    .getOrCreate()\n",
    "\n",
    "sampleFile = \"socialgraph_sample.dat\"\n",
    "\n",
    "# Path of smaller data set\n",
    "testFile = \"socialgraph_testsample.dat\""
   ]
  },
  {
   "cell_type": "code",
   "execution_count": 2,
   "metadata": {
    "deletable": false,
    "editable": false,
    "nbgrader": {
     "cell_type": "code",
     "checksum": "4ddb6305c66b39df5063941ec18f44f6",
     "grade": false,
     "grade_id": "cell-0249f92f12130c6d",
     "locked": true,
     "schema_version": 3,
     "solution": false,
     "task": false
    }
   },
   "outputs": [],
   "source": [
    "# Variable and methods that will be used in more than one test\n",
    "\n",
    "sc = spark.sparkContext\n",
    "\n",
    "# Test if two arrays that contain Rows are equal\n",
    "def equalArray(array1, array2):\n",
    "    for i in range(0, len(array2)):\n",
    "        assert array1[i].asDict() == array2[i].asDict(), \"the row was expected to be %s but it was %s\" % (array2[i].asDict(), array1[i].asDict())\n",
    "\n",
    "# Test if two dataframes contain same rows\n",
    "def equalDF(df1, df2, *columns):\n",
    "    \n",
    "    # sort dfs before converting them to lists\n",
    "    array1 = df1.orderBy(list(columns)).collect()\n",
    "    array2 = df2.orderBy(list(columns)).collect()\n",
    "    equalArray(array1, array2)"
   ]
  },
  {
   "cell_type": "markdown",
   "metadata": {
    "deletable": false,
    "editable": false,
    "nbgrader": {
     "cell_type": "markdown",
     "checksum": "34d3bd58b3e10cc0e97befa5d547ee58",
     "grade": false,
     "grade_id": "cell-9dd6e550095fc617",
     "locked": true,
     "schema_version": 3,
     "solution": false,
     "task": false
    }
   },
   "source": [
    "## Create Graph\n",
    "`createGraph` creates a GraphFrame. The function already includes code that creates the relevant RDDs from the file. Your job is to create a GraphFrame from the RDDs. You can start by first turning the RDDs into dataframes.\n",
    "\n",
    "Vertices should have fields `id` and `name`. Note that id and name are identical in this exercise.  \n",
    "Edges should have fields `src`, `dst` and `relationship`.\n",
    "\n",
    "Example: Supposed we have data shown below:\n",
    "\n",
    " first_user_id | second_user_id \n",
    "---------------|----------------\n",
    "             1 |             2\n",
    "             1 |             2\n",
    "             2 |             1\n",
    "             1 |             3\n",
    "             2 |             3\n",
    "            \n",
    "The graph should be:\n",
    "![](example.png)\n",
    "             \n",
    "param `path`: path of file whose data should be used to create the GraphFrame \n",
    "\n",
    "`return`: GraphFrame\n",
    "\n",
    "Hint: the links in the introduction cell should prove useful\n",
    "\n",
    "\n",
    "Note: If you are experiencing performance issues in later exercises it might be because the graph has too many partitions. You can try to fix it by repartitioning the graph with `GraphFrame(vertices.repartition(2), edges.repartition(2))` when creating the graph in the createGraph function."
   ]
  },
  {
   "cell_type": "code",
   "execution_count": 3,
   "metadata": {
    "deletable": false,
    "nbgrader": {
     "cell_type": "code",
     "checksum": "3ac9613e1c45b186eaf9295816b1da21",
     "grade": false,
     "grade_id": "cell-ae33ce9628fa40aa",
     "locked": false,
     "schema_version": 3,
     "solution": true,
     "task": false
    }
   },
   "outputs": [],
   "source": [
    "def createGraph(path):\n",
    "    \n",
    "    data = spark.sparkContext.textFile(path)\n",
    "    regex = r'\\s*\\d+\\s*\\|\\s*\\d+\\s*'\n",
    "    \n",
    "    filtered = data.map(lambda x: re.findall(regex, x)).filter(lambda y: len(y) > 0)\n",
    "\n",
    "    verticesRDD = filtered.flatMap(lambda x: x[0].split('|')) \\\n",
    "        .map(lambda x: int(x.strip())) \\\n",
    "        .distinct()\\\n",
    "        .map(lambda v: (v,v))\n",
    "    \n",
    "    edgesRDD = filtered.map(lambda x: x[0].split('|'))\\\n",
    "            .map(lambda x: ((int(x[0].strip()), int(x[1].strip())), 1))\\\n",
    "            .reduceByKey(lambda a,b:a+b) \\\n",
    "            .map(lambda x: (x[0][0], x[0][1], x[1]))\n",
    "    \n",
    "    # YOUR CODE HERE\n",
    "    verticeDF = verticesRDD.toDF([\"id\", \"name\"])\n",
    "    edgesDF = edgesRDD.toDF([\"src\", \"dst\", \"relationship\"])\n",
    "    \n",
    "    \n",
    "    graph = GraphFrame(verticeDF, edgesDF)\n",
    "    return graph\n"
   ]
  },
  {
   "cell_type": "code",
   "execution_count": 4,
   "metadata": {
    "deletable": false,
    "editable": false,
    "nbgrader": {
     "cell_type": "code",
     "checksum": "3f8b597ed88908844c96fefa26f3df6f",
     "grade": false,
     "grade_id": "cell-2fd8cccf73474e89",
     "locked": true,
     "schema_version": 3,
     "solution": false,
     "task": false
    }
   },
   "outputs": [
    {
     "name": "stdout",
     "output_type": "stream",
     "text": [
      "+---+----+\n",
      "| id|name|\n",
      "+---+----+\n",
      "| 10|  10|\n",
      "| 12|  12|\n",
      "| 14|  14|\n",
      "| 16|  16|\n",
      "| 18|  18|\n",
      "| 20|  20|\n",
      "| 22|  22|\n",
      "| 24|  24|\n",
      "| 26|  26|\n",
      "| 28|  28|\n",
      "| 30|  30|\n",
      "| 32|  32|\n",
      "| 34|  34|\n",
      "| 36|  36|\n",
      "|  2|   2|\n",
      "| 38|  38|\n",
      "| 40|  40|\n",
      "| 42|  42|\n",
      "| 44|  44|\n",
      "| 46|  46|\n",
      "+---+----+\n",
      "only showing top 20 rows\n",
      "\n",
      "+---+---+------------+\n",
      "|src|dst|relationship|\n",
      "+---+---+------------+\n",
      "|  1| 11|           1|\n",
      "| 11|  1|           1|\n",
      "|  1| 13|           1|\n",
      "| 13|  1|           1|\n",
      "|  1| 15|           1|\n",
      "| 15|  1|           1|\n",
      "|  1| 17|           1|\n",
      "| 17|  1|           1|\n",
      "|  1| 19|           1|\n",
      "| 19|  1|           1|\n",
      "|  1| 21|           1|\n",
      "| 21|  1|           1|\n",
      "|  1| 23|           1|\n",
      "| 23|  1|           1|\n",
      "|  1| 25|           1|\n",
      "| 25|  1|           1|\n",
      "|  1| 27|           1|\n",
      "| 27|  1|           1|\n",
      "|  1| 29|           1|\n",
      "| 29|  1|           1|\n",
      "+---+---+------------+\n",
      "only showing top 20 rows\n",
      "\n"
     ]
    }
   ],
   "source": [
    "# example print\n",
    "\n",
    "graph = createGraph(sampleFile).persist()\n",
    "graph.vertices.show()\n",
    "graph.edges.show()"
   ]
  },
  {
   "cell_type": "code",
   "execution_count": 5,
   "metadata": {
    "deletable": false,
    "editable": false,
    "nbgrader": {
     "cell_type": "code",
     "checksum": "ec4648c001f9b6254d29638675adb0b5",
     "grade": true,
     "grade_id": "cell-372b63367350d1f5",
     "locked": true,
     "points": 1,
     "schema_version": 3,
     "solution": false,
     "task": false
    }
   },
   "outputs": [],
   "source": [
    "'''createGraph tests'''\n",
    "\n",
    "import random\n",
    "\n",
    "correctVertices = sc.parallelize([Row(id=2, name=2),\n",
    "                                  Row(id=10, name=10),\n",
    "                                  Row(id=8, name=8),\n",
    "                                  Row(id=3, name=3),\n",
    "                                  Row(id=7, name=7),\n",
    "                                  Row(id=4, name=4),\n",
    "                                  Row(id=1, name=1),\n",
    "                                  Row(id=9, name=9)]).toDF()\n",
    "\n",
    "correctEdges = sc.parallelize([Row(src=2, dst=10, relationship=1),\n",
    "                               Row(src=2, dst=8, relationship=1),\n",
    "                               Row(src=3, dst=7, relationship=1),\n",
    "                               Row(src=3, dst=10, relationship=1),\n",
    "                               Row(src=2, dst=3, relationship=1),\n",
    "                               Row(src=10, dst=4, relationship=1),\n",
    "                               Row(src=4, dst=10, relationship=1),\n",
    "                               Row(src=4, dst=2, relationship=1),\n",
    "                               Row(src=1, dst=9, relationship=1),\n",
    "                               Row(src=1, dst=10, relationship=2),\n",
    "                               Row(src=7, dst=9, relationship=1),\n",
    "                               Row(src=1, dst=3, relationship=1),\n",
    "                               Row(src=10, dst=1, relationship=1)]).toDF()\n",
    "testGraph = createGraph(testFile).persist()\n",
    "testVertices = testGraph.vertices\n",
    "testEdges = testGraph.edges\n",
    "\n",
    "assert testVertices.count() == correctVertices.count(), \"the vertices count was expected to be %s but it was %s\" % (correctVertices.count(), testVertices.count())\n",
    "assert testEdges.count() == correctEdges.count(), \"the edges count was expected to be %s but it was %s\" % (correctEdges.count(), testEdges.count())\n",
    "equalDF(testGraph.vertices, correctVertices, \"id\")\n",
    "equalDF(testGraph.edges, correctEdges, \"src\", \"dst\", \"relationship\")\n",
    "\n"
   ]
  },
  {
   "cell_type": "markdown",
   "metadata": {
    "deletable": false,
    "editable": false,
    "nbgrader": {
     "cell_type": "markdown",
     "checksum": "eacfdeafcee3d677ff8f68b58b4e5da7",
     "grade": false,
     "grade_id": "cell-fa3f8ed6925bb667",
     "locked": true,
     "schema_version": 3,
     "solution": false,
     "task": false
    }
   },
   "source": [
    "## Both Directions\n",
    "`bothDirections` finds pairs of users who are connected by an edge in both directions.\n",
    "\n",
    "param `graph`: GraphFrame containing social data (created by `createGraph`).\n",
    "\n",
    "`return`: DataFrame which has columns \"start\", \"end\" and \"connections\", corresponding to the  starting user id, ending user id and number of connections between two users. \n",
    "\n",
    "Example: Supposed we have a graph as below:\n",
    "![](example_bothConnections.png)\n",
    "The result should be\n",
    "\n",
    "|start|end|connections|\n",
    "|---|---|------------|\n",
    "| 10|  4|           1|\n",
    "|  4| 10|           1|\n",
    "|  1| 10|           2|\n",
    "| 10|  1|           1|\n",
    "\n",
    "Hint: Check the find function from [GraphFrames](https://graphframes.github.io/graphframes/docs/_site/user-guide.html#motif-finding)"
   ]
  },
  {
   "cell_type": "code",
   "execution_count": 6,
   "metadata": {
    "deletable": false,
    "nbgrader": {
     "cell_type": "code",
     "checksum": "502508e20f6a5719a17beb2d6e225e8f",
     "grade": false,
     "grade_id": "cell-7664eaca92375b77",
     "locked": false,
     "schema_version": 3,
     "solution": true,
     "task": false
    }
   },
   "outputs": [],
   "source": [
    "def bothDirections(graph):\n",
    "\n",
    "    bothEndsGraph = graph.find(\"(a)-[e]->(b); (b)-[e2]->(a)\")\n",
    "    bothEndsGraph.show()\n",
    "    bothEndsDf= bothEndsGraph.select(\"e2.src\", \"e2.dst\", \"e2.relationship\")\n",
    "    bothEndsDf = bothEndsDf.withColumnRenamed(\"src\", \"start\")\\\n",
    "              .withColumnRenamed(\"dst\", \"end\")\\\n",
    "              .withColumnRenamed(\"relationship\", \"connections\")\n",
    "    return bothEndsDf"
   ]
  },
  {
   "cell_type": "code",
   "execution_count": 7,
   "metadata": {},
   "outputs": [
    {
     "name": "stdout",
     "output_type": "stream",
     "text": [
      "+----------+-----------+------+-----------+\n",
      "|         a|          e|     b|         e2|\n",
      "+----------+-----------+------+-----------+\n",
      "|  {29, 29}| {29, 1, 1}|{1, 1}| {1, 29, 1}|\n",
      "|  {65, 65}| {65, 5, 1}|{5, 5}| {5, 65, 1}|\n",
      "|  {19, 19}| {19, 1, 1}|{1, 1}| {1, 19, 1}|\n",
      "|{113, 113}|{113, 5, 1}|{5, 5}|{5, 113, 1}|\n",
      "|  {77, 77}| {77, 5, 1}|{5, 5}| {5, 77, 1}|\n",
      "|  {50, 50}| {50, 2, 1}|{2, 2}| {2, 50, 1}|\n",
      "|  {31, 31}| {31, 1, 1}|{1, 1}| {1, 31, 1}|\n",
      "|  {25, 25}| {25, 1, 1}|{1, 1}| {1, 25, 1}|\n",
      "|  {95, 95}| {95, 5, 1}|{5, 5}| {5, 95, 1}|\n",
      "|  {71, 71}| {71, 5, 1}|{5, 5}| {5, 71, 1}|\n",
      "|  {87, 87}| {87, 5, 1}|{5, 5}| {5, 87, 1}|\n",
      "|  {58, 58}| {58, 4, 1}|{4, 4}| {4, 58, 1}|\n",
      "|{107, 107}|{107, 5, 1}|{5, 5}|{5, 107, 1}|\n",
      "|  {27, 27}| {27, 1, 1}|{1, 1}| {1, 27, 1}|\n",
      "|  {63, 63}| {63, 5, 1}|{5, 5}| {5, 63, 1}|\n",
      "|  {56, 56}| {56, 4, 1}|{4, 4}| {4, 56, 1}|\n",
      "|  {52, 52}| {52, 2, 1}|{2, 2}| {2, 52, 1}|\n",
      "|  {52, 52}| {52, 4, 1}|{4, 4}| {4, 52, 1}|\n",
      "|  {17, 17}| {17, 1, 1}|{1, 1}| {1, 17, 1}|\n",
      "|  {79, 79}| {79, 5, 1}|{5, 5}| {5, 79, 1}|\n",
      "+----------+-----------+------+-----------+\n",
      "only showing top 20 rows\n",
      "\n",
      "+-----+---+-----------+\n",
      "|start|end|connections|\n",
      "+-----+---+-----------+\n",
      "|   11|  1|          1|\n",
      "|    1| 11|          1|\n",
      "|   13|  1|          1|\n",
      "|    1| 13|          1|\n",
      "|   15|  1|          1|\n",
      "|    1| 15|          1|\n",
      "|   17|  1|          1|\n",
      "|    1| 17|          1|\n",
      "|   19|  1|          1|\n",
      "|    1| 19|          1|\n",
      "|   21|  1|          1|\n",
      "|    1| 21|          1|\n",
      "|   23|  1|          1|\n",
      "|    1| 23|          1|\n",
      "|   25|  1|          1|\n",
      "|    1| 25|          1|\n",
      "|   27|  1|          1|\n",
      "|    1| 27|          1|\n",
      "|   29|  1|          1|\n",
      "|    1| 29|          1|\n",
      "|   31|  1|          1|\n",
      "|    1| 31|          1|\n",
      "|   33|  1|          1|\n",
      "|    1| 33|          1|\n",
      "|   35|  1|          1|\n",
      "|    1| 35|          1|\n",
      "|   37|  1|          1|\n",
      "|    1| 37|          1|\n",
      "|   38|  2|          1|\n",
      "|    2| 38|          1|\n",
      "|   40|  2|          1|\n",
      "|    2| 40|          1|\n",
      "|   42|  2|          1|\n",
      "|    2| 42|          1|\n",
      "|   44|  2|          1|\n",
      "|    2| 44|          1|\n",
      "|   46|  2|          1|\n",
      "|    2| 46|          1|\n",
      "|   48|  2|          1|\n",
      "|    2| 48|          1|\n",
      "|   50|  2|          1|\n",
      "|    2| 50|          1|\n",
      "|   52|  2|          1|\n",
      "|    2| 52|          1|\n",
      "|   53|  3|          1|\n",
      "|    3| 53|          1|\n",
      "|   56|  4|          1|\n",
      "|    4| 56|          1|\n",
      "|   40|  4|          1|\n",
      "|    4| 40|          1|\n",
      "|   58|  4|          1|\n",
      "|    4| 58|          1|\n",
      "|   60|  4|          1|\n",
      "|    4| 60|          1|\n",
      "|   52|  4|          1|\n",
      "|    4| 52|          1|\n",
      "|   61|  5|          1|\n",
      "|    5| 61|          1|\n",
      "|   63|  5|          1|\n",
      "|    5| 63|          1|\n",
      "|   65|  5|          1|\n",
      "|    5| 65|          1|\n",
      "|   67|  5|          1|\n",
      "|    5| 67|          1|\n",
      "|   69|  5|          1|\n",
      "|    5| 69|          1|\n",
      "|   71|  5|          1|\n",
      "|    5| 71|          1|\n",
      "|   73|  5|          1|\n",
      "|    5| 73|          1|\n",
      "|   75|  5|          1|\n",
      "|    5| 75|          1|\n",
      "|   77|  5|          1|\n",
      "|    5| 77|          1|\n",
      "|   79|  5|          1|\n",
      "|    5| 79|          1|\n",
      "|   81|  5|          1|\n",
      "|    5| 81|          1|\n",
      "|   83|  5|          1|\n",
      "|    5| 83|          1|\n",
      "|   85|  5|          1|\n",
      "|    5| 85|          1|\n",
      "|   87|  5|          1|\n",
      "|    5| 87|          1|\n",
      "|   89|  5|          1|\n",
      "|    5| 89|          1|\n",
      "|   91|  5|          1|\n",
      "|    5| 91|          1|\n",
      "|   93|  5|          1|\n",
      "|    5| 93|          1|\n",
      "|   95|  5|          1|\n",
      "|    5| 95|          1|\n",
      "|   97|  5|          1|\n",
      "|    5| 97|          1|\n",
      "|   99|  5|          1|\n",
      "|    5| 99|          1|\n",
      "|  101|  5|          1|\n",
      "|    5|101|          1|\n",
      "|  103|  5|          1|\n",
      "|    5|103|          1|\n",
      "|  105|  5|          1|\n",
      "|    5|105|          1|\n",
      "|  107|  5|          1|\n",
      "|    5|107|          1|\n",
      "|  109|  5|          1|\n",
      "|    5|109|          1|\n",
      "|  111|  5|          1|\n",
      "|    5|111|          1|\n",
      "|  113|  5|          1|\n",
      "|    5|113|          1|\n",
      "|  115|  5|          1|\n",
      "|    5|115|          1|\n",
      "|  117|  5|          1|\n",
      "|    5|117|          1|\n",
      "|   10|  1|          1|\n",
      "|    1| 10|          1|\n",
      "|   12|  1|          1|\n",
      "|    1| 12|          1|\n",
      "|   14|  1|          1|\n",
      "|    1| 14|          1|\n",
      "|   16|  1|          1|\n",
      "|    1| 16|          1|\n",
      "|   18|  1|          1|\n",
      "|    1| 18|          1|\n",
      "|   20|  1|          1|\n",
      "|    1| 20|          1|\n",
      "|   22|  1|          1|\n",
      "|    1| 22|          1|\n",
      "|   24|  1|          1|\n",
      "|    1| 24|          1|\n",
      "|   26|  1|          1|\n",
      "|    1| 26|          1|\n",
      "|   28|  1|          1|\n",
      "|    1| 28|          1|\n",
      "|   30|  1|          1|\n",
      "|    1| 30|          1|\n",
      "|   32|  1|          1|\n",
      "|    1| 32|          1|\n",
      "|   34|  1|          1|\n",
      "|    1| 34|          1|\n",
      "|   36|  1|          1|\n",
      "|    1| 36|          1|\n",
      "|   39|  2|          1|\n",
      "|    2| 39|          1|\n",
      "|   41|  2|          1|\n",
      "|    2| 41|          1|\n",
      "|   43|  2|          1|\n",
      "|    2| 43|          1|\n",
      "|   45|  2|          1|\n",
      "|    2| 45|          1|\n",
      "|   47|  2|          1|\n",
      "|    2| 47|          1|\n",
      "|   49|  2|          1|\n",
      "|    2| 49|          1|\n",
      "|   51|  2|          1|\n",
      "|    2| 51|          1|\n",
      "|   54|  3|          1|\n",
      "|    3| 54|          1|\n",
      "|   55|  4|          1|\n",
      "|    4| 55|          1|\n",
      "|   57|  4|          1|\n",
      "|    4| 57|          1|\n",
      "|   59|  4|          1|\n",
      "|    4| 59|          1|\n",
      "|   62|  5|          1|\n",
      "|    5| 62|          1|\n",
      "|   64|  5|          1|\n",
      "|    5| 64|          1|\n",
      "|   66|  5|          1|\n",
      "|    5| 66|          1|\n",
      "|   68|  5|          1|\n",
      "|    5| 68|          1|\n",
      "|   70|  5|          1|\n",
      "|    5| 70|          1|\n",
      "|   72|  5|          1|\n",
      "|    5| 72|          1|\n",
      "|   74|  5|          1|\n",
      "|    5| 74|          1|\n",
      "|   76|  5|          1|\n",
      "|    5| 76|          1|\n",
      "|   78|  5|          1|\n",
      "|    5| 78|          1|\n",
      "|   80|  5|          1|\n",
      "|    5| 80|          1|\n",
      "|   82|  5|          1|\n",
      "|    5| 82|          1|\n",
      "|   84|  5|          1|\n",
      "|    5| 84|          1|\n",
      "|   86|  5|          1|\n",
      "|    5| 86|          1|\n",
      "|   88|  5|          1|\n",
      "|    5| 88|          1|\n",
      "|   90|  5|          1|\n",
      "|    5| 90|          1|\n",
      "|   92|  5|          1|\n",
      "|    5| 92|          1|\n",
      "|   94|  5|          1|\n",
      "|    5| 94|          1|\n",
      "|   96|  5|          1|\n",
      "|    5| 96|          1|\n",
      "|   98|  5|          1|\n",
      "|    5| 98|          1|\n",
      "|  100|  5|          1|\n",
      "|    5|100|          1|\n",
      "|  102|  5|          1|\n",
      "|    5|102|          1|\n",
      "|  104|  5|          1|\n",
      "|    5|104|          1|\n",
      "|  106|  5|          1|\n",
      "|    5|106|          1|\n",
      "|  108|  5|          1|\n",
      "|    5|108|          1|\n",
      "|  110|  5|          1|\n",
      "|    5|110|          1|\n",
      "|  112|  5|          1|\n",
      "|    5|112|          1|\n",
      "|  114|  5|          1|\n",
      "|    5|114|          1|\n",
      "|  116|  5|          1|\n",
      "|    5|116|          1|\n",
      "+-----+---+-----------+\n",
      "\n"
     ]
    }
   ],
   "source": [
    "# example print\n",
    "\n",
    "bothDirections(graph).show(1111)"
   ]
  },
  {
   "cell_type": "code",
   "execution_count": 8,
   "metadata": {
    "deletable": false,
    "editable": false,
    "nbgrader": {
     "cell_type": "code",
     "checksum": "4a1406f69de3efc31548b28b3a96bb8f",
     "grade": true,
     "grade_id": "cell-f30164452a8adcb2",
     "locked": true,
     "points": 1,
     "schema_version": 3,
     "solution": false,
     "task": false
    }
   },
   "outputs": [
    {
     "name": "stdout",
     "output_type": "stream",
     "text": [
      "+--------+----------+--------+----------+\n",
      "|       a|         e|       b|        e2|\n",
      "+--------+----------+--------+----------+\n",
      "|{10, 10}|{10, 4, 1}|  {4, 4}|{4, 10, 1}|\n",
      "|  {4, 4}|{4, 10, 1}|{10, 10}|{10, 4, 1}|\n",
      "|  {1, 1}|{1, 10, 2}|{10, 10}|{10, 1, 1}|\n",
      "|{10, 10}|{10, 1, 1}|  {1, 1}|{1, 10, 2}|\n",
      "+--------+----------+--------+----------+\n",
      "\n"
     ]
    }
   ],
   "source": [
    "'''bothDirections tests'''\n",
    "\n",
    "correctEdges = sc.parallelize([Row(start=10, end=4, connections=1),\n",
    "                               Row(start=4, end=10, connections=1),\n",
    "                               Row(start=1, end=10, connections=2),\n",
    "                               Row(start=10, end=1, connections=1)]).toDF()\n",
    "equalDF(bothDirections(testGraph), correctEdges, \"start\", \"end\", \"connections\")\n"
   ]
  },
  {
   "cell_type": "markdown",
   "metadata": {
    "deletable": false,
    "editable": false,
    "nbgrader": {
     "cell_type": "markdown",
     "checksum": "91d3ddc7108c8dc4fd25ae844a1e7967",
     "grade": false,
     "grade_id": "cell-b32c4330ee9a7009",
     "locked": true,
     "schema_version": 3,
     "solution": false,
     "task": false
    }
   },
   "source": [
    "## Most Active User\n",
    "`mostActiveUser` finds which user has the most outward connections. \n",
    "\n",
    "param `graph`: GraphFrame containing social data.\n",
    "\n",
    "return: id of user who has the most outward connections. Return the smallest id if more than one users have the same number of outward connections."
   ]
  },
  {
   "cell_type": "code",
   "execution_count": 9,
   "metadata": {
    "deletable": false,
    "nbgrader": {
     "cell_type": "code",
     "checksum": "ada1c8a7779806a953e6d9f09327a10e",
     "grade": false,
     "grade_id": "cell-e8dc0feba642b7db",
     "locked": false,
     "schema_version": 3,
     "solution": true,
     "task": false
    }
   },
   "outputs": [],
   "source": [
    "def mostActiveUser(graph):\n",
    "    sortedByActive = graph.edges.groupBy(\"src\").sum(\"relationship\")\n",
    "    mostActiveUser = sortedByActive.sort(\"sum(relationship)\", ascending=False).first()[\"src\"]\n",
    "    return mostActiveUser"
   ]
  },
  {
   "cell_type": "code",
   "execution_count": 10,
   "metadata": {},
   "outputs": [
    {
     "data": {
      "text/plain": [
       "1"
      ]
     },
     "execution_count": 10,
     "metadata": {},
     "output_type": "execute_result"
    }
   ],
   "source": [
    "# example print\n",
    "\n",
    "mostActiveUser(testGraph)"
   ]
  },
  {
   "cell_type": "code",
   "execution_count": 11,
   "metadata": {
    "deletable": false,
    "editable": false,
    "nbgrader": {
     "cell_type": "code",
     "checksum": "0b56b33514bec1aae4b623676fab4d2d",
     "grade": true,
     "grade_id": "cell-b22ae08851e69e51",
     "locked": true,
     "points": 1,
     "schema_version": 3,
     "solution": false,
     "task": false
    }
   },
   "outputs": [],
   "source": [
    "'''mostActiveUser tests'''\n",
    "\n",
    "assert mostActiveUser(graph) == 5, \"the most active user was expected to be 5 but it was %s\" % mostActiveUser(graph)\n",
    "assert mostActiveUser(testGraph) == 1, \"the most active user was expected to be 1 but it was %s\" % mostActiveUser(testGraph)\n"
   ]
  },
  {
   "cell_type": "markdown",
   "metadata": {
    "deletable": false,
    "editable": false,
    "nbgrader": {
     "cell_type": "markdown",
     "checksum": "c34f93cfaf89d0e292b775d690a83b64",
     "grade": false,
     "grade_id": "cell-fddb53cc607c150e",
     "locked": true,
     "schema_version": 3,
     "solution": false,
     "task": false
    }
   },
   "source": [
    "## Connection Ratio\n",
    "`connectionRatio` shows which user has the highest ratio of inward connections but fewest outward connections. \n",
    "\n",
    "param `graph`: GraphFrame containing social data.\n",
    "\n",
    "`return` DataFrame which has columns \"id\" and \"connectionRatio\", where \"id\" is the id of a user and \"connectionRatio\" = number of inward connections/number of outward connections. Users without inward or outward connections should be filtered out. **The DataFrame should be sorted by connectionRatio in descending order. If more than one users have the same connection ratio, these users should be sorted by their id in ascending order.**\n",
    "\n",
    "example output:\n",
    "\n",
    "| id|   connectionRatio|\n",
    "|---|------------------|\n",
    "| 10|               2.0|\n",
    "|  3|               1.0|\n",
    "|  7|               1.0|\n",
    "|  4|               0.5|\n",
    "|  1|0.3333333333333333|\n",
    "|  2|0.3333333333333333|"
   ]
  },
  {
   "cell_type": "code",
   "execution_count": 12,
   "metadata": {
    "deletable": false,
    "nbgrader": {
     "cell_type": "code",
     "checksum": "984ccaf54e03bf4d823ba697dbe56339",
     "grade": false,
     "grade_id": "cell-a411d7e6e2dea998",
     "locked": false,
     "schema_version": 3,
     "solution": true,
     "task": false
    }
   },
   "outputs": [],
   "source": [
    "def connectionRatio(graph):\n",
    "    edges = graph.edges\n",
    "    edges.createOrReplaceTempView(\"edges\")\n",
    "\n",
    "    connRatio = spark.sql(\"select srcCount.src as id, (dstCount.count / srcCount.count) as connectionRatio\\\n",
    "                           from(select src, count(src) as count\\\n",
    "                                from edges \\\n",
    "                                group by src) srcCount\\\n",
    "                           left join (select dst, count(dst) as count\\\n",
    "                                      from edges\\\n",
    "                                      group by dst) dstCount \\\n",
    "                           on srcCount.src = dstCount.dst\\\n",
    "                           order by connectionRatio desc, id asc\\\n",
    "                  \")\n",
    "    \n",
    "  \n",
    "    return connRatio\n",
    "    "
   ]
  },
  {
   "cell_type": "code",
   "execution_count": 13,
   "metadata": {},
   "outputs": [
    {
     "name": "stdout",
     "output_type": "stream",
     "text": [
      "+---+------------------+\n",
      "| id|   connectionRatio|\n",
      "+---+------------------+\n",
      "| 10|               2.0|\n",
      "|  3|               1.0|\n",
      "|  7|               1.0|\n",
      "|  4|               0.5|\n",
      "|  1|0.3333333333333333|\n",
      "|  2|0.3333333333333333|\n",
      "+---+------------------+\n",
      "\n"
     ]
    }
   ],
   "source": [
    "# example print\n",
    "\n",
    "connectionRatio(testGraph).show()"
   ]
  },
  {
   "cell_type": "code",
   "execution_count": 14,
   "metadata": {
    "deletable": false,
    "editable": false,
    "nbgrader": {
     "cell_type": "code",
     "checksum": "30d635b3630ea60996513b5c58abf7fc",
     "grade": true,
     "grade_id": "cell-c0d199cb9cc2435e",
     "locked": true,
     "points": 1,
     "schema_version": 3,
     "solution": false,
     "task": false
    }
   },
   "outputs": [],
   "source": [
    "'''connectionRatio tests'''\n",
    "correct = [Row(id=10, connectionRatio=2.0),\n",
    "           Row(id=3, connectionRatio=1.0),\n",
    "           Row(id=7, connectionRatio=1.0),\n",
    "           Row(id=4, connectionRatio=0.5),\n",
    "           Row(id=1, connectionRatio=1/3),\n",
    "           Row(id=2, connectionRatio=1/3)]\n",
    "\n",
    "test = connectionRatio(testGraph)\n",
    "equalArray(test.collect(), correct)\n"
   ]
  },
  {
   "cell_type": "markdown",
   "metadata": {
    "deletable": false,
    "editable": false,
    "nbgrader": {
     "cell_type": "markdown",
     "checksum": "b6d9e93f154107023e455eb960847855",
     "grade": false,
     "grade_id": "cell-e64a9805b487b28d",
     "locked": true,
     "schema_version": 3,
     "solution": false,
     "task": false
    }
   },
   "source": [
    "## Communities\n",
    "`communities` uses [label propagation algorithm (LPA)](https://neo4j.com/blog/graph-algorithms-neo4j-label-propagation/) to detect communities for a graph. \n",
    "\n",
    "param `graph`: GraphFrame containing social data.\n",
    "\n",
    "`return`: DataFrame containing columns \"community\" and \"count\". \"community\" is the label assigned by LPA and \"count\" is the number of users who belong to the community. **The Dataframe should be sorted by \"count\" in descending order. If more than one communities have same number of users, these communities should be sorted by label in ascending order.**\n",
    "\n",
    "Note: set 5 as the number of iterations to be performed when running LPA.\n",
    "\n",
    "Example output:\n",
    "\n",
    "|community|count|\n",
    "|---------|-----|\n",
    "|        1|    4|\n",
    "|        3|    2|\n",
    "|       10|    2|\n"
   ]
  },
  {
   "cell_type": "code",
   "execution_count": 15,
   "metadata": {
    "deletable": false,
    "nbgrader": {
     "cell_type": "code",
     "checksum": "4fcbb7e18f1637bc2e3a8993c9dfdf54",
     "grade": false,
     "grade_id": "cell-dac31ea7604e805f",
     "locked": false,
     "schema_version": 3,
     "solution": true,
     "task": false
    }
   },
   "outputs": [],
   "source": [
    "import pyspark.sql.functions as f\n",
    " \n",
    "def communities(graph):\n",
    "    communities = graph.labelPropagation(maxIter=5)\n",
    "    communities = communities.withColumnRenamed(\"label\", \"community\")\n",
    "    communities = communities.drop(\"name\", \"id\")\n",
    "    communities = communities.groupBy('community').count().select('community', f.col('count').alias('count'))\n",
    "    communities = communities.sort(f.col(\"count\").desc(), f.col(\"community\").asc())\n",
    "    return communities"
   ]
  },
  {
   "cell_type": "code",
   "execution_count": 16,
   "metadata": {},
   "outputs": [
    {
     "name": "stdout",
     "output_type": "stream",
     "text": [
      "+---------+-----+\n",
      "|community|count|\n",
      "+---------+-----+\n",
      "|2        |4    |\n",
      "|8        |3    |\n",
      "|10       |1    |\n",
      "+---------+-----+\n",
      "\n"
     ]
    }
   ],
   "source": [
    "# example print\n",
    "\n",
    "communities(testGraph).show(truncate=False)"
   ]
  },
  {
   "cell_type": "code",
   "execution_count": 17,
   "metadata": {
    "deletable": false,
    "editable": false,
    "nbgrader": {
     "cell_type": "code",
     "checksum": "45da79101d408eebd98be232bddae373",
     "grade": true,
     "grade_id": "cell-bbff92edb250b8a7",
     "locked": true,
     "points": 1,
     "schema_version": 3,
     "solution": false,
     "task": false
    }
   },
   "outputs": [],
   "source": [
    "'''communities tests'''\n",
    "correct = [Row(community=2, count=4),\n",
    "           Row(community=8, count=3),\n",
    "           Row(community=10, count=1)]\n",
    "\n",
    "equalArray(communities(testGraph).collect(), correct)\n"
   ]
  },
  {
   "cell_type": "markdown",
   "metadata": {
    "deletable": false,
    "editable": false,
    "nbgrader": {
     "cell_type": "markdown",
     "checksum": "d7c254c68c9ce3e301e985342f434069",
     "grade": false,
     "grade_id": "cell-455c7ac19e014d24",
     "locked": true,
     "schema_version": 3,
     "solution": false,
     "task": false
    }
   },
   "source": [
    "## Highest Page Rank\n",
    "`highestPageRank` finds which user has the highest [PageRank](https://en.wikipedia.org/wiki/PageRank).\n",
    "\n",
    "param `graph`: GraphFrame containing social data.\n",
    "\n",
    "`return`: id of user with the highest PageRank.\n",
    "\n",
    "**Set tolerance \"tol\" as 0.0001 when using the pageRank algorithm.**"
   ]
  },
  {
   "cell_type": "code",
   "execution_count": 18,
   "metadata": {
    "deletable": false,
    "nbgrader": {
     "cell_type": "code",
     "checksum": "f073862a44a470a908a93d5d4ff6a76b",
     "grade": false,
     "grade_id": "cell-2daff5a1e0de0a1a",
     "locked": false,
     "schema_version": 3,
     "solution": true,
     "task": false
    }
   },
   "outputs": [],
   "source": [
    "def highestPageRank(graph):   \n",
    "    pagerank = graph.pageRank(tol=0.0001)\n",
    "    HighestPageRankId = pagerank.vertices\\\n",
    "                                .orderBy(\"pagerank\", ascending=False)\\\n",
    "                                .take(1)[0][0]\n",
    "    \n",
    "    return HighestPageRankId\n",
    "    "
   ]
  },
  {
   "cell_type": "code",
   "execution_count": 19,
   "metadata": {},
   "outputs": [
    {
     "data": {
      "text/plain": [
       "10"
      ]
     },
     "execution_count": 19,
     "metadata": {},
     "output_type": "execute_result"
    }
   ],
   "source": [
    "# example print\n",
    "\n",
    "highestPageRank(testGraph)"
   ]
  },
  {
   "cell_type": "code",
   "execution_count": 20,
   "metadata": {
    "deletable": false,
    "editable": false,
    "nbgrader": {
     "cell_type": "code",
     "checksum": "6f71de7f540a1b99519c8dd4c6d407cd",
     "grade": true,
     "grade_id": "cell-3054ad6ca5f7970f",
     "locked": true,
     "points": 1,
     "schema_version": 3,
     "solution": false,
     "task": false
    }
   },
   "outputs": [],
   "source": [
    "'''highestPageRank tests'''\n",
    "\n",
    "#graph = createGraph(testFile)\n",
    "assert highestPageRank(testGraph) == 10, \"the highest page rank was expected to be 10 but it was %s\" % highestPageRank(testGraph)\n"
   ]
  },
  {
   "cell_type": "code",
   "execution_count": 21,
   "metadata": {
    "deletable": false,
    "editable": false,
    "nbgrader": {
     "cell_type": "code",
     "checksum": "067d5cf4979c9a028449a2213e620c88",
     "grade": false,
     "grade_id": "cell-57089751fdc2b300",
     "locked": true,
     "schema_version": 3,
     "solution": false,
     "task": false
    }
   },
   "outputs": [],
   "source": [
    "spark.catalog.clearCache()\n",
    "spark.stop()"
   ]
  },
  {
   "cell_type": "code",
   "execution_count": null,
   "metadata": {},
   "outputs": [],
   "source": []
  }
 ],
 "metadata": {
  "kernelspec": {
   "display_name": "Python 3 (ipykernel)",
   "language": "python",
   "name": "python3"
  },
  "language_info": {
   "codemirror_mode": {
    "name": "ipython",
    "version": 3
   },
   "file_extension": ".py",
   "mimetype": "text/x-python",
   "name": "python",
   "nbconvert_exporter": "python",
   "pygments_lexer": "ipython3",
   "version": "3.9.1"
  },
  "vscode": {
   "interpreter": {
    "hash": "d074b6b7a4d7b8adf89df935b7701a8c4e0af999254745575407f19f2a6d6544"
   }
  }
 },
 "nbformat": 4,
 "nbformat_minor": 4
}
